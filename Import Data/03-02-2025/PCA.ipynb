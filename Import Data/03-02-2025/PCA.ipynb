{
 "cells": [
  {
   "cell_type": "markdown",
   "metadata": {},
   "source": [
    "# Análisis de Componentes Principales (PCA por sus siglas en inglés)\n",
    "\n",
    "El PCA no es exactamente un modelo de aprendizaje de máquina completo.  En vez, es un algoritmo de aprendizaje supervisado. \n",
    "\n",
    "El PCA es simplemente la transformación de los datos e intenta encontrar qué variables (features) explican la mayor parte de la varianza de los datos, por ejemplo:"
   ]
  },
  {
   "cell_type": "markdown",
   "metadata": {},
   "source": [
    "<img src='PCA.png' />"
   ]
  },
  {
   "cell_type": "markdown",
   "metadata": {},
   "source": [
    "## Importación de librerías a utilizar"
   ]
  },
  {
   "cell_type": "code",
   "execution_count": null,
   "metadata": {},
   "outputs": [],
   "source": [
    "import matplotlib.pyplot as plt\n",
    "import pandas as pd\n",
    "import numpy as np\n",
    "import seaborn as sns\n",
    "%matplotlib inline"
   ]
  },
  {
   "cell_type": "markdown",
   "metadata": {},
   "source": [
    "## Los Datos\n",
    "\n",
    "Trabajaremos con un conjunto de datos sobre Cancer que tiene una gran cantidad de variables.\n",
    "\n",
    "El sklearn contiene otros conjuntos de datos.  Si quisieran ver qué tiene, pueden escribir:\n",
    "\n",
    "**from sklearn.datasets import load_**     y luego darle un tabulador."
   ]
  },
  {
   "cell_type": "code",
   "execution_count": null,
   "metadata": {},
   "outputs": [],
   "source": [
    "from sklearn.datasets import load_breast_cancer"
   ]
  },
  {
   "cell_type": "code",
   "execution_count": null,
   "metadata": {},
   "outputs": [],
   "source": [
    "cancer = load_breast_cancer()"
   ]
  },
  {
   "cell_type": "markdown",
   "metadata": {},
   "source": [
    "Qué tipo de dato es este?"
   ]
  },
  {
   "cell_type": "code",
   "execution_count": null,
   "metadata": {},
   "outputs": [],
   "source": [
    "type(cancer)"
   ]
  },
  {
   "cell_type": "markdown",
   "metadata": {},
   "source": [
    "Ciertamente es un tipo de dato que no conocemos, pero se puede trabajar, en parte, como que fuera un diccionario"
   ]
  },
  {
   "cell_type": "code",
   "execution_count": null,
   "metadata": {},
   "outputs": [],
   "source": [
    "cancer.keys()"
   ]
  },
  {
   "cell_type": "markdown",
   "metadata": {},
   "source": [
    "Si tratamos de ver cada uno de estos:"
   ]
  },
  {
   "cell_type": "code",
   "execution_count": null,
   "metadata": {},
   "outputs": [],
   "source": [
    "cancer['DESCR']"
   ]
  },
  {
   "cell_type": "markdown",
   "metadata": {},
   "source": [
    "Sale algo no muy ordenado...se visualiza mejor con un print()"
   ]
  },
  {
   "cell_type": "code",
   "execution_count": null,
   "metadata": {},
   "outputs": [],
   "source": [
    "print(cancer['DESCR'])"
   ]
  },
  {
   "cell_type": "code",
   "execution_count": null,
   "metadata": {},
   "outputs": [],
   "source": [
    "df = pd.DataFrame(cancer['data'], columns = cancer['feature_names'])\n",
    "#(['DESCR', 'data', 'feature_names', 'target_names', 'target'])"
   ]
  },
  {
   "cell_type": "code",
   "execution_count": null,
   "metadata": {},
   "outputs": [],
   "source": [
    "df.head()"
   ]
  },
  {
   "cell_type": "markdown",
   "metadata": {},
   "source": [
    "## Visualización del PCA\n",
    "\n",
    "Es muy difícil visualizar datos de alta dimensionalidad (gran número de variables), podemos utilizar el PCA para encontrar un número deseado de componentes principales (para nuestro ejemplo buscaremos dos).  Habiendo reducido los datos a este espacio nuevo de dos dimensiones, es posible representarlos por medio de una gráfica de dispersión.  Sin embargo, antes de hacer esto, necesitamos escalar...o normalizar...los datos para que cada componente tenga una varianza unitaria."
   ]
  },
  {
   "cell_type": "code",
   "execution_count": null,
   "metadata": {
    "tags": []
   },
   "outputs": [],
   "source": [
    "from sklearn.preprocessing import StandardScaler"
   ]
  },
  {
   "cell_type": "markdown",
   "metadata": {},
   "source": [
    "### Creamos un objeto de la clase StandardScaler y lo ajustamos a los datos"
   ]
  },
  {
   "cell_type": "code",
   "execution_count": null,
   "metadata": {},
   "outputs": [],
   "source": [
    "escalador = StandardScaler()\n",
    "escalador.fit(df)"
   ]
  },
  {
   "cell_type": "markdown",
   "metadata": {},
   "source": [
    "### Ahora transformaremos los datos"
   ]
  },
  {
   "cell_type": "code",
   "execution_count": null,
   "metadata": {},
   "outputs": [],
   "source": [
    "datos_escalados = escalador.transform(df)"
   ]
  },
  {
   "cell_type": "markdown",
   "metadata": {},
   "source": [
    "El PCA con Scikit Learn utiliza un proceso similar a otras funciones de pre-procesamiento que vienen con SciKit Learn.  Instanciamos un objeto PCA, encontramos los componentes principales usando el método \"fit\" y luego aplicamos la rotación y reducción de dimensiones por medio de una llamada a \"transform()\".\n",
    "\n",
    "También podemos especificar cuántos componentes deseamos conservar al crear el objeto PCA."
   ]
  },
  {
   "cell_type": "code",
   "execution_count": null,
   "metadata": {},
   "outputs": [],
   "source": [
    "from sklearn.decomposition import PCA"
   ]
  },
  {
   "cell_type": "code",
   "execution_count": null,
   "metadata": {},
   "outputs": [],
   "source": [
    "pca = PCA(n_components=2)"
   ]
  },
  {
   "cell_type": "code",
   "execution_count": null,
   "metadata": {},
   "outputs": [],
   "source": [
    "pca.fit(datos_escalados)"
   ]
  },
  {
   "cell_type": "markdown",
   "metadata": {},
   "source": [
    "Ahora podemos transformar los datos a los primeros 2 componentes principales."
   ]
  },
  {
   "cell_type": "code",
   "execution_count": null,
   "metadata": {},
   "outputs": [],
   "source": [
    "x_pca = pca.transform(datos_escalados)"
   ]
  },
  {
   "cell_type": "markdown",
   "metadata": {},
   "source": [
    "Veamos qué ocurrió acá:\n",
    "\n",
    "La forma de los datos originales (normalizados) es:"
   ]
  },
  {
   "cell_type": "code",
   "execution_count": null,
   "metadata": {},
   "outputs": [],
   "source": [
    "datos_escalados.shape"
   ]
  },
  {
   "cell_type": "markdown",
   "metadata": {},
   "source": [
    "La forma de los datos ya convertidos a componentes principales es:"
   ]
  },
  {
   "cell_type": "code",
   "execution_count": null,
   "metadata": {},
   "outputs": [],
   "source": [
    "x_pca.shape"
   ]
  },
  {
   "cell_type": "markdown",
   "metadata": {
    "tags": []
   },
   "source": [
    "Excelente ... redujimos 30 dimensiones a solo 2!   \n",
    "\n",
    "Grafiquémoslos!"
   ]
  },
  {
   "cell_type": "code",
   "execution_count": null,
   "metadata": {},
   "outputs": [],
   "source": [
    "plt.figure(figsize=(8,6))\n",
    "plt.scatter(x_pca[:,0],x_pca[:,1])\n",
    "plt.xlabel('Primer componente principal')\n",
    "plt.ylabel('Segundo componente principal');"
   ]
  },
  {
   "cell_type": "markdown",
   "metadata": {},
   "source": [
    "### Solo así no vemos mucho!\n",
    "\n",
    "No tenemos idea de qué hay en los componentes.\n",
    "\n",
    "Pero veamos qué pasa agregando información de los datos meta, y un poco de color"
   ]
  },
  {
   "cell_type": "code",
   "execution_count": null,
   "metadata": {},
   "outputs": [],
   "source": [
    "plt.figure(figsize = (8, 6))\n",
    "plt.scatter(x_pca[:, 0],x_pca[:, 1], c = cancer['target'], cmap = 'plasma')\n",
    "plt.legend(cancer[\"target_names\"], loc = \"upper right\")\n",
    "plt.xlabel('Primer componente principal')\n",
    "plt.ylabel('Segundo componente principal');"
   ]
  },
  {
   "cell_type": "markdown",
   "metadata": {},
   "source": [
    "Claramente al utilizar estos dos componentes, fácilmente podemos separar las dos clases (Malignos y Benignos)\n",
    "\n",
    "## Interpretación de los componentes\n",
    "\n",
    "Desafortunadamente, con esta gran potencia de reducción dimensional, viene el costo de poder comprender fácilmente qué es lo que representan estos componentes.\n",
    "\n",
    "Los componentes corresponden a combinaciones de las variables originales, los componentes mismos se almacenan como un attributo del objeto PCA ajustado:"
   ]
  },
  {
   "cell_type": "code",
   "execution_count": null,
   "metadata": {},
   "outputs": [],
   "source": [
    "pca.components_"
   ]
  },
  {
   "cell_type": "markdown",
   "metadata": {},
   "source": [
    "En este arreglo numpy, cada fila representa un componente principal, y cada columna relaciona a las variables originales.  Podemos visualizar esta relación con un mapa de calor:"
   ]
  },
  {
   "cell_type": "code",
   "execution_count": null,
   "metadata": {},
   "outputs": [],
   "source": [
    "df_componentes = pd.DataFrame(pca.components_, columns = cancer['feature_names'])\n",
    "df_componentes"
   ]
  },
  {
   "cell_type": "code",
   "execution_count": null,
   "metadata": {},
   "outputs": [],
   "source": [
    "plt.figure(figsize = (12, 6))\n",
    "sns.heatmap(df_componentes, cmap = \"viridis\",)  # probar con cmap = \"plasma\", para otros colores"
   ]
  },
  {
   "cell_type": "markdown",
   "metadata": {},
   "source": [
    "Este mapa de calor y la barra de colores básicamente representan la correlación entre las diferentes variables y los componentes principales.\n",
    "\n",
    "## Conclusión\n",
    "\n",
    "De nuevo, el PCA por sí solo solamente es un algoritmo para reducir la dimensionalidad de los conjuntos de datos.  Los más probable es que luego se querrán alimentar estos datos a un modelo de clasificación."
   ]
  },
  {
   "cell_type": "code",
   "execution_count": null,
   "metadata": {},
   "outputs": [],
   "source": []
  }
 ],
 "metadata": {
  "kernelspec": {
   "display_name": "Python 3 (ipykernel)",
   "language": "python",
   "name": "python3"
  },
  "language_info": {
   "codemirror_mode": {
    "name": "ipython",
    "version": 3
   },
   "file_extension": ".py",
   "mimetype": "text/x-python",
   "name": "python",
   "nbconvert_exporter": "python",
   "pygments_lexer": "ipython3",
   "version": "3.11.7"
  }
 },
 "nbformat": 4,
 "nbformat_minor": 4
}
